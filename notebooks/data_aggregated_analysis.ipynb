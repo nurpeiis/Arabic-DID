{
 "cells": [
  {
   "cell_type": "code",
   "execution_count": 1,
   "metadata": {},
   "outputs": [],
   "source": [
    "import pandas as pd"
   ]
  },
  {
   "cell_type": "code",
   "execution_count": 30,
   "metadata": {},
   "outputs": [],
   "source": [
    "df_train_city = pd.read_csv('../aggregated_data/city_train.tsv', sep='\\t', header=0)\n",
    "df_dev_city = pd.read_csv('../aggregated_data/city_dev.tsv', sep='\\t', header=0)\n",
    "df_test_city = pd.read_csv('../aggregated_data/city_test.tsv', sep='\\t', header=0)\n"
   ]
  },
  {
   "cell_type": "code",
   "execution_count": 31,
   "metadata": {},
   "outputs": [],
   "source": [
    "def get_count(df):\n",
    "    return df.groupby(['dialect_city_id', 'dialect_country_id'])['original_sentence'].nunique().index.tolist()"
   ]
  },
  {
   "cell_type": "code",
   "execution_count": 32,
   "metadata": {},
   "outputs": [
    {
     "data": {
      "text/plain": [
       "113"
      ]
     },
     "execution_count": 32,
     "metadata": {},
     "output_type": "execute_result"
    }
   ],
   "source": [
    "train_city_count = get_count(df_train_city)\n",
    "dev_city_count = get_count(df_dev_city)\n",
    "test_city_count = get_count(df_test_city)\n",
    "len(train_city_count)"
   ]
  },
  {
   "cell_type": "code",
   "execution_count": 33,
   "metadata": {},
   "outputs": [],
   "source": [
    "def intersection(lst1, lst2):\n",
    "    lst3 = [value for value in lst1 if value in lst2]\n",
    "    lst4 = [value for value in lst1 if (value in lst2) == False]\n",
    "    lst5 = [value for value in lst2 if (value in lst1) == False]\n",
    "\n",
    "    return lst3, lst4, lst5"
   ]
  },
  {
   "cell_type": "code",
   "execution_count": 40,
   "metadata": {},
   "outputs": [],
   "source": [
    "#create level_label_id files\n",
    "levels = ['city', 'country', 'region']\n",
    "label_space = pd.read_csv('../labels/final_label_space.tsv', sep='\\t', header=0)\n",
    "#label_space\n",
    "for i in range(len(levels)):\n",
    "    level = [label[i:] for label in label_space.values.tolist()]\n",
    "    labels = []\n",
    "    #print(level)\n",
    "    with open(f'../labels/{levels[i]}_label_id.txt', 'w') as f:\n",
    "        counter = 0\n",
    "        for j in range(len(level)):\n",
    "            label = ' '.join(level[j])\n",
    "            if (label in labels) == False:\n",
    "                labels.append(label)\n",
    "                f.write(f'{label},{counter}\\n')\n",
    "                counter += 1\n",
    "        \n",
    "    "
   ]
  },
  {
   "cell_type": "code",
   "execution_count": 35,
   "metadata": {},
   "outputs": [],
   "source": [
    "#convert province to non province \n",
    "label_space = pd.read_csv('../labels/label_space_with_province.tsv', sep='\\t', header=0)\n",
    "df = label_space.duplicated(['dialect_city_id', 'dialect_country_id'])\n",
    "label_space = label_space.drop_duplicates(['dialect_city_id', 'dialect_country_id'])\n",
    "label_space = label_space[['dialect_city_id', 'dialect_country_id', 'dialect_region_id']]\n",
    "label_space.to_csv('../labels/label_space.tsv', sep='\\t', index=False)"
   ]
  },
  {
   "cell_type": "code",
   "execution_count": 4,
   "metadata": {},
   "outputs": [],
   "source": [
    "#get madar label space\n",
    "label_space = pd.read_csv('../../hierarchical-did/data_processed_second/madar_shared_task1/MADAR-Corpus-26-train.lines', sep='\\t', header=0)\n",
    "df = label_space.duplicated(['dialect_city_id', 'dialect_country_id'])\n",
    "label_space = label_space.drop_duplicates(['dialect_city_id', 'dialect_country_id'])\n",
    "label_space = label_space[['dialect_city_id', 'dialect_country_id', 'dialect_region_id']]\n",
    "label_space.to_csv('../labels/madar_label_space.tsv', sep='\\t', index=False)\n",
    "\n",
    "levels = ['city', 'country', 'region']\n",
    "#label_space\n",
    "for i in range(len(levels)):\n",
    "    level = [label[i:] for label in label_space.values.tolist()]\n",
    "    labels = []\n",
    "    #print(level)\n",
    "    with open(f'../labels/madar_{levels[i]}_label_id.txt', 'w') as f:\n",
    "        counter = 0\n",
    "        for j in range(len(level)):\n",
    "            label = ' '.join(level[j])\n",
    "            if (label in labels) == False:\n",
    "                labels.append(label)\n",
    "                f.write(f'{label},{counter}\\n')\n",
    "                counter += 1"
   ]
  },
  {
   "cell_type": "code",
   "execution_count": null,
   "metadata": {},
   "outputs": [],
   "source": []
  }
 ],
 "metadata": {
  "kernelspec": {
   "display_name": "Python 3.8.2 64-bit ('hierarchical-did': conda)",
   "language": "python",
   "name": "python38264bithierarchicaldidconda4487f863c8784fb2a7811f83c7f12f9c"
  },
  "language_info": {
   "codemirror_mode": {
    "name": "ipython",
    "version": 3
   },
   "file_extension": ".py",
   "mimetype": "text/x-python",
   "name": "python",
   "nbconvert_exporter": "python",
   "pygments_lexer": "ipython3",
   "version": "3.8.2"
  }
 },
 "nbformat": 4,
 "nbformat_minor": 4
}
