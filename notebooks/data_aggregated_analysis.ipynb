{
 "cells": [
  {
   "cell_type": "code",
   "execution_count": 3,
   "metadata": {},
   "outputs": [],
   "source": [
    "import pandas as pd"
   ]
  },
  {
   "cell_type": "code",
   "execution_count": 39,
   "metadata": {},
   "outputs": [],
   "source": [
    "df_train_city = pd.read_csv('../data_aggregated/city_train.tsv', sep='\\t', header=0)\n",
    "df_dev_city = pd.read_csv('../data_aggregated/city_dev.tsv', sep='\\t', header=0)\n",
    "df_test_city = pd.read_csv('../data_aggregated/city_test.tsv', sep='\\t', header=0)\n"
   ]
  },
  {
   "cell_type": "code",
   "execution_count": 63,
   "metadata": {},
   "outputs": [],
   "source": [
    "def get_count(df):\n",
    "    return df.groupby(['dialect_city_id', 'dialect_country_id'])['original_sentence'].nunique().index.tolist()"
   ]
  },
  {
   "cell_type": "code",
   "execution_count": 64,
   "metadata": {},
   "outputs": [],
   "source": [
    "train_city_count = get_count(df_train_city)\n",
    "dev_city_count = get_count(df_dev_city)\n",
    "test_city_count = get_count(df_test_city)"
   ]
  },
  {
   "cell_type": "code",
   "execution_count": 69,
   "metadata": {},
   "outputs": [
    {
     "data": {
      "text/plain": [
       "([('abha', 'sa'),\n",
       "  ('abu_dhabi', 'ae'),\n",
       "  ('aden', 'ye'),\n",
       "  ('agadir', 'ma'),\n",
       "  ('al_hudaydah', 'ye'),\n",
       "  ('al_madinah', 'sa'),\n",
       "  ('al_rayyan', 'qa'),\n",
       "  ('al_suwayda', 'sy'),\n",
       "  ('aleppo', 'sy'),\n",
       "  ('alexandria', 'eg'),\n",
       "  ('algiers', 'dz'),\n",
       "  ('amarah', 'iq'),\n",
       "  ('amman', 'jo'),\n",
       "  ('aqaba', 'jo'),\n",
       "  ('ariana', 'tn'),\n",
       "  ('aswan', 'eg'),\n",
       "  ('asyut', 'eg'),\n",
       "  ('baghdad', 'iq'),\n",
       "  ('basra', 'iq'),\n",
       "  ('bayda', 'ly'),\n",
       "  ('bechar', 'dz'),\n",
       "  ('beirut', 'lb'),\n",
       "  ('benghazi', 'ly'),\n",
       "  ('beni_suef', 'eg'),\n",
       "  ('bordj_bou_arreridj', 'dz'),\n",
       "  ('bouira', 'dz'),\n",
       "  ('buraidah', 'sa'),\n",
       "  ('cairo', 'eg'),\n",
       "  ('damanhur', 'eg'),\n",
       "  ('damascus', 'sy'),\n",
       "  ('dammam', 'sa'),\n",
       "  ('dhamar', 'ye'),\n",
       "  ('djibouti', 'dj'),\n",
       "  ('doha', 'qa'),\n",
       "  ('dubai', 'ae'),\n",
       "  ('duhok', 'iq'),\n",
       "  ('el_arish', 'eg'),\n",
       "  ('el_tor', 'eg'),\n",
       "  ('erbil', 'iq'),\n",
       "  ('faiyum', 'eg'),\n",
       "  ('fes', 'ma'),\n",
       "  ('fujairah', 'ae'),\n",
       "  ('gaza', 'ps'),\n",
       "  ('girga', 'eg'),\n",
       "  ('hail', 'sa'),\n",
       "  ('halba', 'lb'),\n",
       "  ('hawalli', 'kw'),\n",
       "  ('homs', 'sy'),\n",
       "  ('hurghada', 'eg'),\n",
       "  ('ibb', 'ye'),\n",
       "  ('ismailia', 'eg'),\n",
       "  ('jahra', 'kw'),\n",
       "  ('jeddah', 'sa'),\n",
       "  ('jerusalem', 'ps'),\n",
       "  ('jijel', 'dz'),\n",
       "  ('jizan', 'sa'),\n",
       "  ('kafr_el_sheikh', 'eg'),\n",
       "  ('kairouan', 'tn'),\n",
       "  ('karbala', 'iq'),\n",
       "  ('khartoum', 'sd'),\n",
       "  ('khasab', 'om'),\n",
       "  ('khenchela', 'dz'),\n",
       "  ('kut', 'iq'),\n",
       "  ('latakia', 'sy'),\n",
       "  ('luxor', 'eg'),\n",
       "  ('mahdia', 'tn'),\n",
       "  ('manama', 'bh'),\n",
       "  ('mansoura', 'eg'),\n",
       "  ('meknes', 'ma'),\n",
       "  ('minya', 'eg'),\n",
       "  ('misrata', 'ly'),\n",
       "  ('mogadishu', 'so'),\n",
       "  ('mosul', 'iq'),\n",
       "  ('msa', 'msa'),\n",
       "  ('muscat', 'om'),\n",
       "  ('najaf', 'iq'),\n",
       "  ('najran', 'sa'),\n",
       "  ('nizwa', 'om'),\n",
       "  ('nouakchott', 'mr'),\n",
       "  ('oran', 'dz'),\n",
       "  ('ouargla', 'dz'),\n",
       "  ('oujda', 'ma'),\n",
       "  ('port_said', 'eg'),\n",
       "  ('qena', 'eg'),\n",
       "  ('rabat', 'ma'),\n",
       "  ('ramadi', 'iq'),\n",
       "  ('ras_al_khaimah', 'ae'),\n",
       "  ('riyadh', 'sa'),\n",
       "  ('salalah', 'om'),\n",
       "  ('salt', 'jo'),\n",
       "  ('samawah', 'iq'),\n",
       "  ('sanaa', 'ye'),\n",
       "  ('sfax', 'tn'),\n",
       "  ('shibin_el_kom', 'eg'),\n",
       "  ('sidon', 'lb'),\n",
       "  ('sohar', 'om'),\n",
       "  ('sousse', 'tn'),\n",
       "  ('suez', 'eg'),\n",
       "  ('sulaymaniyah', 'iq'),\n",
       "  ('sur', 'om'),\n",
       "  ('tabuk', 'sa'),\n",
       "  ('tangier', 'ma'),\n",
       "  ('tanta', 'eg'),\n",
       "  ('tobruk', 'ly'),\n",
       "  ('tripoli', 'lb'),\n",
       "  ('tripoli', 'ly'),\n",
       "  ('tunis', 'tn'),\n",
       "  ('umm_al_quwain', 'ae'),\n",
       "  ('zarqa', 'jo')],\n",
       " [('giza', 'eg'), ('zagazig', 'eg')],\n",
       " [])"
      ]
     },
     "execution_count": 69,
     "metadata": {},
     "output_type": "execute_result"
    }
   ],
   "source": [
    "intersection(train_city_count, dev_city_count)"
   ]
  },
  {
   "cell_type": "code",
   "execution_count": 45,
   "metadata": {},
   "outputs": [
    {
     "data": {
      "text/plain": [
       "dialect_city_id  dialect_country_id\n",
       "abha             sa                      213\n",
       "abu_dhabi        ae                      214\n",
       "aden             ye                      213\n",
       "agadir           ma                      214\n",
       "al_hudaydah      ye                      213\n",
       "                                       ...  \n",
       "tripoli          ly                     3668\n",
       "tunis            tn                    19906\n",
       "umm_al_quwain    ae                      214\n",
       "zagazig          eg                      275\n",
       "zarqa            jo                      213\n",
       "Name: original_sentence, Length: 111, dtype: int64"
      ]
     },
     "execution_count": 45,
     "metadata": {},
     "output_type": "execute_result"
    }
   ],
   "source": [
    "train_city_count"
   ]
  },
  {
   "cell_type": "code",
   "execution_count": 46,
   "metadata": {},
   "outputs": [
    {
     "data": {
      "text/plain": [
       "dialect_city_id  dialect_country_id\n",
       "aleppo           sy                      813\n",
       "alexandria       eg                      646\n",
       "algiers          dz                      731\n",
       "amman            jo                      961\n",
       "aswan            eg                      605\n",
       "asyut            eg                       69\n",
       "baghdad          iq                     1394\n",
       "basra            iq                      959\n",
       "beirut           lb                      478\n",
       "benghazi         ly                      907\n",
       "cairo            eg                     1419\n",
       "damascus         sy                      678\n",
       "doha             qa                     1785\n",
       "fes              ma                      308\n",
       "jeddah           sa                     1435\n",
       "jerusalem        ps                      614\n",
       "khartoum         sd                     1216\n",
       "luxor            eg                       24\n",
       "mosul            iq                      729\n",
       "msa              msa                   21091\n",
       "muscat           om                     4789\n",
       "rabat            ma                      351\n",
       "riyadh           sa                     3148\n",
       "salt             jo                      837\n",
       "sanaa            ye                      908\n",
       "sfax             tn                      671\n",
       "shibin_el_kom    eg                       28\n",
       "tanta            eg                      142\n",
       "tripoli          ly                      689\n",
       "tunis            tn                      539\n",
       "Name: original_sentence, dtype: int64"
      ]
     },
     "execution_count": 46,
     "metadata": {},
     "output_type": "execute_result"
    }
   ],
   "source": [
    "test_city_count"
   ]
  },
  {
   "cell_type": "code",
   "execution_count": 59,
   "metadata": {},
   "outputs": [],
   "source": [
    "#convert province to non province \n",
    "label_space = pd.read_csv('../labels/label_space_with_province.tsv', sep='\\t', header=0)\n",
    "df = label_space.duplicated(['dialect_city_id', 'dialect_country_id'])\n",
    "label_space = label_space.drop_duplicates(['dialect_city_id', 'dialect_country_id'])\n",
    "label_space = label_space[['dialect_city_id', 'dialect_country_id', 'dialect_region_id']]\n",
    "label_space.to_csv('../labels/label_space.tsv', sep='\\t', index=False)"
   ]
  },
  {
   "cell_type": "code",
   "execution_count": 68,
   "metadata": {},
   "outputs": [],
   "source": [
    "def intersection(lst1, lst2):\n",
    "    lst3 = [value for value in lst1 if value in lst2]\n",
    "    lst4 = [value for value in lst1 if (value in lst2) == False]\n",
    "    lst5 = [value for value in lst2 if (value in lst1) == False]\n",
    "\n",
    "    return lst3, lst4, lst5"
   ]
  },
  {
   "cell_type": "code",
   "execution_count": 10,
   "metadata": {},
   "outputs": [
    {
     "data": {
      "text/plain": [
       "['annaba', 'marrakesh', 'makkah', 'kuwait_city']"
      ]
     },
     "execution_count": 10,
     "metadata": {},
     "output_type": "execute_result"
    }
   ],
   "source": [
    "intersection_val, non_intersection1, non_intersection2  = intersection(train_city_count.index.tolist(), label_space.dialect_city_id.tolist())\n",
    "non_intersection2"
   ]
  },
  {
   "cell_type": "code",
   "execution_count": 15,
   "metadata": {},
   "outputs": [],
   "source": [
    "df_nadi = pd.read_csv('../../hierarchical-did/data_processed_second/nadi/train_labeled.lines', sep='\\t',  header=0)\n",
    "cities = df_nadi.drop_duplicates(['dialect_city_id']).values"
   ]
  },
  {
   "cell_type": "code",
   "execution_count": 35,
   "metadata": {},
   "outputs": [],
   "source": [
    "provinces = df_nadi.drop_duplicates(['dialect_city_id','dialect_province_id']).values\n",
    "ps = [(p[1], p[2], p[3]) for p in provinces]\n",
    "cs = [(c[1], c[2], c[3]) for c in cities]"
   ]
  },
  {
   "cell_type": "code",
   "execution_count": 36,
   "metadata": {},
   "outputs": [
    {
     "data": {
      "text/plain": [
       "100"
      ]
     },
     "execution_count": 36,
     "metadata": {},
     "output_type": "execute_result"
    }
   ],
   "source": [
    "len(ps)"
   ]
  },
  {
   "cell_type": "code",
   "execution_count": 37,
   "metadata": {},
   "outputs": [
    {
     "data": {
      "text/plain": [
       "99"
      ]
     },
     "execution_count": 37,
     "metadata": {},
     "output_type": "execute_result"
    }
   ],
   "source": [
    "len(cs)"
   ]
  },
  {
   "cell_type": "code",
   "execution_count": 38,
   "metadata": {},
   "outputs": [
    {
     "name": "stdout",
     "output_type": "stream",
     "text": [
      "('tripoli', 'tripoli', 'ly')\n",
      "101\n"
     ]
    }
   ],
   "source": [
    "count = 1\n",
    "for p in ps:\n",
    "    if (p in cs) == False:\n",
    "        print(p)\n",
    "    count += 1\n",
    "print(count)"
   ]
  },
  {
   "cell_type": "code",
   "execution_count": null,
   "metadata": {},
   "outputs": [],
   "source": []
  },
  {
   "cell_type": "code",
   "execution_count": null,
   "metadata": {},
   "outputs": [],
   "source": []
  }
 ],
 "metadata": {
  "kernelspec": {
   "display_name": "Python 3.8.2 64-bit ('hierarchical-did': conda)",
   "language": "python",
   "name": "python38264bithierarchicaldidconda4487f863c8784fb2a7811f83c7f12f9c"
  },
  "language_info": {
   "codemirror_mode": {
    "name": "ipython",
    "version": 3
   },
   "file_extension": ".py",
   "mimetype": "text/x-python",
   "name": "python",
   "nbconvert_exporter": "python",
   "pygments_lexer": "ipython3",
   "version": "3.8.2"
  }
 },
 "nbformat": 4,
 "nbformat_minor": 4
}
